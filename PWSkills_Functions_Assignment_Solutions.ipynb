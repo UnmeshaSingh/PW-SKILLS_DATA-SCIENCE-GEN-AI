{
 "cells": [
  {
   "cell_type": "markdown",
   "id": "369c23bd",
   "metadata": {},
   "source": [
    "# PW Skills - Functions Assignment\n",
    "\n",
    "Student: <Your Name Here>\n",
    "\n",
    "Keep everything in this single notebook. For Q11 (paper working), insert a photo of your handwritten work."
   ]
  },
  {
   "cell_type": "markdown",
   "id": "10f1a3ed",
   "metadata": {},
   "source": [
    "## Theory Questions\n",
    "Note: Each answer includes at least one example."
   ]
  },
  {
   "cell_type": "markdown",
   "id": "719fa549",
   "metadata": {},
   "source": [
    "### 1) Function vs Method\n",
    "- Function: defined with def or lambda; not bound to an object.\n",
    "- Method: function defined inside a class; bound to an instance or class (first parameter is self or cls).\n",
    "Example: add(a,b) is a function; Calc.add(self,a,b) is a method."
   ]
  },
  {
   "cell_type": "markdown",
   "id": "9f74317c",
   "metadata": {},
   "source": [
    "### 2) Arguments vs Parameters\n",
    "- Parameters: variable names in function definition.\n",
    "- Arguments: actual values passed at call time.\n",
    "Supports positional, keyword, default, *args, **kwargs.\n",
    "Example: greet(name, title='Mr./Ms.') then call greet('UNO') or greet(name='UNO', title='Dr.')."
   ]
  },
  {
   "cell_type": "markdown",
   "id": "1ecf6c1d",
   "metadata": {},
   "source": [
    "### 3) Ways to define and call a function\n",
    "- Define with def or lambda (anonymous).\n",
    "- Call with parentheses and arguments. Example: square(5) -> 25; (lambda x: x*2)(10) -> 20."
   ]
  },
  {
   "cell_type": "markdown",
   "id": "0972ad63",
   "metadata": {},
   "source": [
    "### 4) Purpose of return\n",
    "Ends execution and sends a value back. Without return -> None. Can return multiple values (tuple)."
   ]
  },
  {
   "cell_type": "markdown",
   "id": "c71facac",
   "metadata": {},
   "source": [
    "### 5) Iterators vs Iterables\n",
    "- Iterable: has __iter__ (e.g., list, tuple, str).\n",
    "- Iterator: object from iter(iterable), has __next__ and maintains state until StopIteration."
   ]
  },
  {
   "cell_type": "markdown",
   "id": "58be52e2",
   "metadata": {},
   "source": [
    "### 6) Generators\n",
    "Functions using yield (or generator expressions) that lazily produce values and keep internal state."
   ]
  },
  {
   "cell_type": "markdown",
   "id": "1891a2cd",
   "metadata": {},
   "source": [
    "### 7) Advantages of generators\n",
    "Memory efficient, faster on large streams, composable in pipelines, natural for large/infinite sequences."
   ]
  },
  {
   "cell_type": "markdown",
   "id": "0b1ac6ad",
   "metadata": {},
   "source": [
    "### 8) Lambda function\n",
    "Small anonymous function: lambda params: expression. Use for short, throwaway functions (e.g., sort keys)."
   ]
  },
  {
   "cell_type": "markdown",
   "id": "89e177aa",
   "metadata": {},
   "source": [
    "### 9) map()\n",
    "map(func, iterable) applies func to each item; returns lazy map object. Wrap with list(...) to materialize."
   ]
  },
  {
   "cell_type": "markdown",
   "id": "b48da967",
   "metadata": {},
   "source": [
    "### 10) map vs reduce vs filter\n",
    "- map(f, seq): transform each element (usually same length).\n",
    "- filter(pred, seq): keep elements where pred is True (length <= input).\n",
    "- reduce(f, seq): combine elements into a single value (in functools)."
   ]
  },
  {
   "cell_type": "markdown",
   "id": "2c62f695",
   "metadata": {},
   "source": [
    "### 11) Paper Work (reduce on [47, 11, 42, 13])\n",
    "\n",
    "Step-by-step working of reduce()\n",
    "\n",
    "When you run:\n",
    "\n",
    "from functools import reduce\n",
    "reduce(lambda a, b: a + b, [47, 11, 42, 13])\n",
    "\n",
    "\n",
    "Here’s what happens internally:\n",
    "\n",
    "First call:\n",
    "a = 47, b = 11\n",
    "lambda a,b: a+b → 47 + 11 = 58\n",
    "\n",
    "→ Result so far: 58\n",
    "\n",
    "Second call:\n",
    "a = 58 (the result from previous step), b = 42\n",
    "58 + 42 = 100\n",
    "\n",
    "→ Result so far: 100\n",
    "\n",
    "Third call:\n",
    "a = 100, b = 13\n",
    "100 + 13 = 113\n",
    "\n",
    "→ Final result: 113\n",
    "\n",
    "✅ Final Answer:\n",
    "\n",
    "The reduce function adds step by step:\n",
    "\n",
    "(((47 + 11) + 42) + 13) = 113\n",
    "\n",
    "\n",
    "So the output is 113."
   ]
  },
  {
   "cell_type": "markdown",
   "id": "d6b2fdb5",
   "metadata": {},
   "source": [
    "## Practical Questions"
   ]
  },
  {
   "cell_type": "markdown",
   "id": "0e5fef6b",
   "metadata": {},
   "source": [
    "### P1) Sum of even numbers in a list"
   ]
  },
  {
   "cell_type": "code",
   "execution_count": null,
   "id": "8f52947f",
   "metadata": {},
   "outputs": [],
   "source": [
    "def sum_of_evens(nums):\n",
    "    return sum(x for x in nums if x % 2 == 0)\n",
    "\n",
    "# quick test\n",
    "sum_of_evens([1,2,3,4,10])"
   ]
  },
  {
   "cell_type": "markdown",
   "id": "0ffe0100",
   "metadata": {},
   "source": [
    "### P2) Reverse a string"
   ]
  },
  {
   "cell_type": "code",
   "execution_count": null,
   "id": "20fecdae",
   "metadata": {},
   "outputs": [],
   "source": [
    "def reverse_string(s):\n",
    "    return s[::-1]\n",
    "\n",
    "reverse_string('UNO')"
   ]
  },
  {
   "cell_type": "markdown",
   "id": "7f5b79c8",
   "metadata": {},
   "source": [
    "### P3) Squares of a list of integers"
   ]
  },
  {
   "cell_type": "code",
   "execution_count": null,
   "id": "66e4c34f",
   "metadata": {},
   "outputs": [],
   "source": [
    "def squares(nums):\n",
    "    return [x*x for x in nums]\n",
    "\n",
    "squares([1,2,3,4])"
   ]
  },
  {
   "cell_type": "markdown",
   "id": "71fa5fab",
   "metadata": {},
   "source": [
    "### P4) Prime checker from 1 to 200"
   ]
  },
  {
   "cell_type": "code",
   "execution_count": null,
   "id": "f5c1b42c",
   "metadata": {},
   "outputs": [],
   "source": [
    "def is_prime(n):\n",
    "    if n < 2:\n",
    "        return False\n",
    "    if n % 2 == 0:\n",
    "        return n == 2\n",
    "    i = 3\n",
    "    while i * i <= n:\n",
    "        if n % i == 0:\n",
    "            return False\n",
    "        i += 2\n",
    "    return True\n",
    "\n",
    "primes_1_to_200 = [n for n in range(1, 201) if is_prime(n)]\n",
    "(primes_1_to_200[:15], len(primes_1_to_200))"
   ]
  },
  {
   "cell_type": "markdown",
   "id": "7febecff",
   "metadata": {},
   "source": [
    "### P5) Iterator class for Fibonacci up to N terms"
   ]
  },
  {
   "cell_type": "code",
   "execution_count": null,
   "id": "b53e5730",
   "metadata": {},
   "outputs": [],
   "source": [
    "class FibonacciIterator:\n",
    "    def __init__(self, n_terms):\n",
    "        self.n = n_terms\n",
    "        self.count = 0\n",
    "        self.a, self.b = 0, 1\n",
    "\n",
    "    def __iter__(self):\n",
    "        return self\n",
    "\n",
    "    def __next__(self):\n",
    "        if self.count >= self.n:\n",
    "            raise StopIteration\n",
    "        if self.count == 0:\n",
    "            self.count += 1\n",
    "            return 0\n",
    "        elif self.count == 1:\n",
    "            self.count += 1\n",
    "            return 1\n",
    "        else:\n",
    "            self.a, self.b = self.b, self.a + self.b\n",
    "            self.count += 1\n",
    "            return self.b\n",
    "\n",
    "list(FibonacciIterator(10))"
   ]
  },
  {
   "cell_type": "markdown",
   "id": "fcaf7cad",
   "metadata": {},
   "source": [
    "### P6) Generator yielding powers of 2 up to exponent N"
   ]
  },
  {
   "cell_type": "code",
   "execution_count": null,
   "id": "a1357de5",
   "metadata": {},
   "outputs": [],
   "source": [
    "def powers_of_two(n):\n",
    "    exp = 0\n",
    "    while exp <= n:\n",
    "        yield 2 ** exp\n",
    "        exp += 1\n",
    "\n",
    "list(powers_of_two(10))[:6]"
   ]
  },
  {
   "cell_type": "markdown",
   "id": "81ab0b32",
   "metadata": {},
   "source": [
    "### P7) Generator that reads a file line by line"
   ]
  },
  {
   "cell_type": "code",
   "execution_count": null,
   "id": "605c77f5",
   "metadata": {},
   "outputs": [],
   "source": [
    "def read_lines(filepath):\n",
    "    with open(filepath, 'r', encoding='utf-8') as f:\n",
    "        for line in f:\n",
    "            yield line.rstrip('\\n')\n",
    "\n",
    "# Demo (creates a sample file and reads it)\n",
    "sample_path = '/mnt/data/sample.txt'\n",
    "with open(sample_path, 'w', encoding='utf-8') as f:\n",
    "    f.write('alpha\\nbeta\\ngamma\\n')\n",
    "\n",
    "list(read_lines(sample_path))"
   ]
  },
  {
   "cell_type": "markdown",
   "id": "34125059",
   "metadata": {},
   "source": [
    "### P8) Sort a list of tuples by the second element using lambda"
   ]
  },
  {
   "cell_type": "code",
   "execution_count": null,
   "id": "d21dbe4b",
   "metadata": {},
   "outputs": [],
   "source": [
    "def sort_by_second(tuples_list):\n",
    "    return sorted(tuples_list, key=lambda t: t[1])\n",
    "\n",
    "sort_by_second([('a', 3), ('b', 1), ('c', 2)])"
   ]
  },
  {
   "cell_type": "markdown",
   "id": "69b0d645",
   "metadata": {},
   "source": [
    "### P9) map() to convert Celsius to Fahrenheit"
   ]
  },
  {
   "cell_type": "code",
   "execution_count": null,
   "id": "d9917f07",
   "metadata": {},
   "outputs": [],
   "source": [
    "def c_to_f(c):\n",
    "    return c * 9/5 + 32\n",
    "\n",
    "def map_c_to_f(celsius_list):\n",
    "    return list(map(c_to_f, celsius_list))\n",
    "\n",
    "map_c_to_f([0, 20, 37, 100])"
   ]
  },
  {
   "cell_type": "markdown",
   "id": "2a029bea",
   "metadata": {},
   "source": [
    "### P10) filter() to remove vowels from a string"
   ]
  },
  {
   "cell_type": "code",
   "execution_count": null,
   "id": "c0915525",
   "metadata": {},
   "outputs": [],
   "source": [
    "def remove_vowels(s):\n",
    "    vowels = set('aeiouAEIOU')\n",
    "    return ''.join(ch for ch in s if ch not in vowels)\n",
    "\n",
    "remove_vowels('Hello World')"
   ]
  },
  {
   "cell_type": "markdown",
   "id": "585d4ef2",
   "metadata": {},
   "source": [
    "### P11) Book shop accounting using lambda and map"
   ]
  },
  {
   "cell_type": "code",
   "execution_count": null,
   "id": "858a9458",
   "metadata": {},
   "outputs": [],
   "source": [
    "# (order_no, title, qty, price_per_item)\n",
    "orders = [\n",
    "    (34587, 'Learning Python, Mark Lutz', 4, 40.95),\n",
    "    (98762, 'Programming Python, Mark Lutz', 5, 56.80),\n",
    "    (77226, 'Head First Python, Paul Barry', 3, 32.95),\n",
    "    (88112, 'Einfuhrung in Python3, Bernd Klein', 3, 24.99),\n",
    "]\n",
    "\n",
    "order_totals = list(map(\n",
    "    lambda o: (o[0], (o[2]*o[3]) if (o[2]*o[3]) >= 100 else (o[2]*o[3]) + 10),\n",
    "    orders\n",
    "))\n",
    "\n",
    "order_totals"
   ]
  }
 ],
 "metadata": {
  "language_info": {
   "name": "python"
  }
 },
 "nbformat": 4,
 "nbformat_minor": 5
}
