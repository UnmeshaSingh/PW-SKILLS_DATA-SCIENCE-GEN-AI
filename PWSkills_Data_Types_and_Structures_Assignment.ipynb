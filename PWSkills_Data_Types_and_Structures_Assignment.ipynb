{
 "cells": [
  {
   "cell_type": "markdown",
   "id": "771812b9",
   "metadata": {},
   "source": [
    "\n",
    "# PWSkills — Data Types and Structures Assignment (Python)\n",
    "**Author:** UNO  \n",
    "**Note:** This notebook includes concise theory answers and working Python code for all practical questions.\n",
    "\n",
    "> Source assignment PDF: (provided by course). Make sure to upload this notebook to your GitHub repository, then submit a PDF with your GitHub link as requested.\n"
   ]
  },
  {
   "cell_type": "markdown",
   "id": "0b8e871f",
   "metadata": {},
   "source": [
    "## Part A — Theory (Data Types & Structures)"
   ]
  },
  {
   "cell_type": "markdown",
   "id": "d14b3daf",
   "metadata": {},
   "source": [
    "### 1) What are data structures, and why are they important?\n",
    "Data structures are organized ways of storing and arranging data in memory so operations such as access, insertion, deletion, and search can be performed efficiently. They are important because the right structure reduces time/space complexity, improves scalability, and maps well to real‑world problems (e.g., lists/arrays for ordered data, sets for uniqueness, dicts/maps for key‑value lookup, graphs/trees for relationships/hierarchies)."
   ]
  },
  {
   "cell_type": "markdown",
   "id": "fc33a4b1",
   "metadata": {},
   "source": [
    "### 2) Explain the difference between mutable and immutable data types with examples.\n",
    "Mutable types can be changed in place after creation (e.g., `list`, `dict`, `set`). Immutable types cannot be changed in place; any 'change' creates a new object (e.g., `int`, `float`, `str`, `tuple`, `frozenset`)."
   ]
  },
  {
   "cell_type": "markdown",
   "id": "6d179826",
   "metadata": {},
   "source": [
    "### 3) What are the main differences between lists and tuples in Python?\n",
    "- **Mutability:** lists are mutable; tuples are immutable.\n",
    "- **Syntax:** lists use `[]`; tuples use `()`.\n",
    "- **Use cases:** lists for dynamic collections; tuples for fixed records, safe iteration, or dictionary keys.\n",
    "- **Performance:** tuples are slightly faster and more memory‑efficient."
   ]
  },
  {
   "cell_type": "markdown",
   "id": "69156dc5",
   "metadata": {},
   "source": [
    "### 4) Describe how dictionaries store data.\n",
    "Dictionaries store key–value pairs using a hash table. A hash function maps each key to a bucket index; Python resolves collisions via open addressing/perturbation and resizes tables to keep lookups ~O(1) average time."
   ]
  },
  {
   "cell_type": "markdown",
   "id": "defe38b2",
   "metadata": {},
   "source": [
    "### 5) Why might you use a set instead of a list in Python?\n",
    "Sets enforce uniqueness and provide average O(1) membership tests, union/intersection/difference operations, and fast deduplication, whereas lists have O(n) membership checks and allow duplicates."
   ]
  },
  {
   "cell_type": "markdown",
   "id": "38e36ada",
   "metadata": {},
   "source": [
    "### 6) What is a string in Python, and how is it different from a list?\n",
    "A string is an immutable sequence of Unicode characters; a list is a mutable sequence of arbitrary Python objects. String operations create new strings; list items can be edited in place."
   ]
  },
  {
   "cell_type": "markdown",
   "id": "fabbef14",
   "metadata": {},
   "source": [
    "### 7) How do tuples ensure data integrity in Python?\n",
    "Tuples are immutable, which prevents accidental modification. They’re ideal for fixed records (e.g., coordinates, database rows) and can be used as dictionary keys if their elements are also hashable."
   ]
  },
  {
   "cell_type": "markdown",
   "id": "a8912d6d",
   "metadata": {},
   "source": [
    "### 8) What is a hash table, and how does it relate to dictionaries in Python?\n",
    "A hash table stores items in an array of buckets indexed by a hash of the key. Python dictionaries are optimized hash tables supporting average O(1) get/set/delete."
   ]
  },
  {
   "cell_type": "markdown",
   "id": "9bbb9fe2",
   "metadata": {},
   "source": [
    "### 9) Can lists contain different data types in Python?\n",
    "Yes. Lists can mix types, e.g., `[1, 'a', 3.14, True]`. Python is dynamically typed."
   ]
  },
  {
   "cell_type": "markdown",
   "id": "888a56b1",
   "metadata": {},
   "source": [
    "### 10) Explain why strings are immutable in Python.\n",
    "Immutability simplifies memory management and interning, enables safe sharing across code without defensive copies, and improves hashing/Thread‑safety properties for common workloads."
   ]
  },
  {
   "cell_type": "markdown",
   "id": "fedc5a4c",
   "metadata": {},
   "source": [
    "### 11) What advantages do dictionaries offer over lists for certain tasks?\n",
    "Dictionaries provide direct key‑based lookup/update (~O(1) average), making them superior when you need to map identifiers to values (e.g., user_id → profile). Lists require O(n) search for arbitrary keys."
   ]
  },
  {
   "cell_type": "markdown",
   "id": "6a0d0e1f",
   "metadata": {},
   "source": [
    "### 12) Describe a scenario where using a tuple would be preferable over a list.\n",
    "When representing a fixed-size, read‑only record (e.g., `(x, y)` coordinates, an RGB color `(255, 128, 64)`, or a database row) or when using it as a dictionary key."
   ]
  },
  {
   "cell_type": "markdown",
   "id": "950eb398",
   "metadata": {},
   "source": [
    "### 13) How do sets handle duplicate values in Python?\n",
    "Duplicates are automatically removed; only unique, hashable elements remain."
   ]
  },
  {
   "cell_type": "markdown",
   "id": "36a7b631",
   "metadata": {},
   "source": [
    "### 14) How does the `in` keyword work differently for lists and dictionaries?\n",
    "`x in my_list` checks for an element in the sequence (linear scan, O(n)). `k in my_dict` checks for presence of key via hashing (average O(1))."
   ]
  },
  {
   "cell_type": "markdown",
   "id": "c83cda1f",
   "metadata": {},
   "source": [
    "### 15) Can you modify the elements of a tuple? Explain why or why not.\n",
    "No. Tuples are immutable. You can create a new tuple (e.g., by concatenation) but not change elements in place."
   ]
  },
  {
   "cell_type": "markdown",
   "id": "e67cf8fa",
   "metadata": {},
   "source": [
    "### 16) What is a nested dictionary? Give an example of its use case.\n",
    "A dictionary whose values include other dictionaries. Example: `students = {'s1': {'name': 'Asha', 'grade': 'A'}, 's2': {'name': 'Ravi', 'grade': 'B'}}` for hierarchical data."
   ]
  },
  {
   "cell_type": "markdown",
   "id": "80f364be",
   "metadata": {},
   "source": [
    "### 17) Describe the time complexity of accessing elements in a dictionary.\n",
    "Average O(1) due to hashing; worst‑case O(n) under adversarial collisions—rare in practice."
   ]
  },
  {
   "cell_type": "markdown",
   "id": "cc5085f0",
   "metadata": {},
   "source": [
    "### 18) In what situations are lists preferred over dictionaries?\n",
    "When order matters and items are indexed by position (e.g., sequences to iterate, stacks/queues, small collections where keys aren’t needed)."
   ]
  },
  {
   "cell_type": "markdown",
   "id": "25831fe3",
   "metadata": {},
   "source": [
    "### 19) Why are dictionaries considered unordered, and how does that affect data retrieval?\n",
    "Historically dicts didn’t preserve insertion order. Since Python 3.7+, insertion order is preserved as an implementation detail, but retrieval is still by key rather than by numeric index. You shouldn’t rely on numeric positions."
   ]
  },
  {
   "cell_type": "markdown",
   "id": "006dbca0",
   "metadata": {},
   "source": [
    "### 20) Explain the difference between a list and a dictionary in terms of data retrieval.\n",
    "Lists retrieve by integer index (O(1) by position, O(n) to find a value). Dictionaries retrieve by key (average O(1))."
   ]
  },
  {
   "cell_type": "markdown",
   "id": "f3ec1ad1",
   "metadata": {},
   "source": [
    "## Part B — Practical (Python Code)"
   ]
  },
  {
   "cell_type": "markdown",
   "id": "0eff6936",
   "metadata": {},
   "source": [
    "### Practical 1: 1) Create a string with your name and print it."
   ]
  },
  {
   "cell_type": "code",
   "execution_count": 1,
   "id": "e58a2859",
   "metadata": {
    "execution": {
     "iopub.execute_input": "2025-09-27T11:59:41.402108Z",
     "iopub.status.busy": "2025-09-27T11:59:41.401729Z",
     "iopub.status.idle": "2025-09-27T11:59:41.410726Z",
     "shell.execute_reply": "2025-09-27T11:59:41.409958Z"
    }
   },
   "outputs": [
    {
     "name": "stdout",
     "output_type": "stream",
     "text": [
      "UNO\n"
     ]
    }
   ],
   "source": [
    "name_str = 'UNO'\n",
    "print(name_str)"
   ]
  },
  {
   "cell_type": "markdown",
   "id": "428da102",
   "metadata": {},
   "source": [
    "### Practical 2: 2) Find the length of the string `'Hello World'`."
   ]
  },
  {
   "cell_type": "code",
   "execution_count": 2,
   "id": "149858a0",
   "metadata": {
    "execution": {
     "iopub.execute_input": "2025-09-27T11:59:41.414850Z",
     "iopub.status.busy": "2025-09-27T11:59:41.414402Z",
     "iopub.status.idle": "2025-09-27T11:59:41.420058Z",
     "shell.execute_reply": "2025-09-27T11:59:41.419050Z"
    }
   },
   "outputs": [
    {
     "name": "stdout",
     "output_type": "stream",
     "text": [
      "11\n"
     ]
    }
   ],
   "source": [
    "s = 'Hello World'\n",
    "print(len(s))"
   ]
  },
  {
   "cell_type": "markdown",
   "id": "ae590369",
   "metadata": {},
   "source": [
    "### Practical 3: 3) Slice the first 7 characters from the string `'Python Programming'`."
   ]
  },
  {
   "cell_type": "code",
   "execution_count": 3,
   "id": "ad0c9a26",
   "metadata": {
    "execution": {
     "iopub.execute_input": "2025-09-27T11:59:41.424267Z",
     "iopub.status.busy": "2025-09-27T11:59:41.423786Z",
     "iopub.status.idle": "2025-09-27T11:59:41.428823Z",
     "shell.execute_reply": "2025-09-27T11:59:41.428019Z"
    }
   },
   "outputs": [
    {
     "name": "stdout",
     "output_type": "stream",
     "text": [
      "Python \n"
     ]
    }
   ],
   "source": [
    "text = 'Python Programming'\n",
    "print(text[:7])"
   ]
  },
  {
   "cell_type": "markdown",
   "id": "6c544932",
   "metadata": {},
   "source": [
    "### Practical 4: 4) Convert the string `'hello'` to uppercase."
   ]
  },
  {
   "cell_type": "code",
   "execution_count": 4,
   "id": "7a5e9ef0",
   "metadata": {
    "execution": {
     "iopub.execute_input": "2025-09-27T11:59:41.433027Z",
     "iopub.status.busy": "2025-09-27T11:59:41.432716Z",
     "iopub.status.idle": "2025-09-27T11:59:41.440966Z",
     "shell.execute_reply": "2025-09-27T11:59:41.440205Z"
    }
   },
   "outputs": [
    {
     "name": "stdout",
     "output_type": "stream",
     "text": [
      "HELLO\n"
     ]
    }
   ],
   "source": [
    "print('hello'.upper())"
   ]
  },
  {
   "cell_type": "markdown",
   "id": "2c4ca48b",
   "metadata": {},
   "source": [
    "### Practical 5: 5) Replace the word `'apple'` with `'orange'` in the string `'I like apple'`."
   ]
  },
  {
   "cell_type": "code",
   "execution_count": 5,
   "id": "dbfbce23",
   "metadata": {
    "execution": {
     "iopub.execute_input": "2025-09-27T11:59:41.444681Z",
     "iopub.status.busy": "2025-09-27T11:59:41.444284Z",
     "iopub.status.idle": "2025-09-27T11:59:41.448417Z",
     "shell.execute_reply": "2025-09-27T11:59:41.447802Z"
    }
   },
   "outputs": [
    {
     "name": "stdout",
     "output_type": "stream",
     "text": [
      "I like orange\n"
     ]
    }
   ],
   "source": [
    "print('I like apple'.replace('apple', 'orange'))"
   ]
  },
  {
   "cell_type": "markdown",
   "id": "fc9f2142",
   "metadata": {},
   "source": [
    "### Practical 6: 6) Create a list with numbers 1 to 5 and print it."
   ]
  },
  {
   "cell_type": "code",
   "execution_count": 6,
   "id": "a62e7a17",
   "metadata": {
    "execution": {
     "iopub.execute_input": "2025-09-27T11:59:41.451757Z",
     "iopub.status.busy": "2025-09-27T11:59:41.451473Z",
     "iopub.status.idle": "2025-09-27T11:59:41.455114Z",
     "shell.execute_reply": "2025-09-27T11:59:41.454588Z"
    }
   },
   "outputs": [
    {
     "name": "stdout",
     "output_type": "stream",
     "text": [
      "[1, 2, 3, 4, 5]\n"
     ]
    }
   ],
   "source": [
    "lst = [1,2,3,4,5]\n",
    "print(lst)"
   ]
  },
  {
   "cell_type": "markdown",
   "id": "1dc268bd",
   "metadata": {},
   "source": [
    "### Practical 7: 7) Append the number `10` to the list `[1, 2, 3, 4]`."
   ]
  },
  {
   "cell_type": "code",
   "execution_count": 7,
   "id": "6032cd25",
   "metadata": {
    "execution": {
     "iopub.execute_input": "2025-09-27T11:59:41.458293Z",
     "iopub.status.busy": "2025-09-27T11:59:41.458043Z",
     "iopub.status.idle": "2025-09-27T11:59:41.462569Z",
     "shell.execute_reply": "2025-09-27T11:59:41.461893Z"
    }
   },
   "outputs": [
    {
     "name": "stdout",
     "output_type": "stream",
     "text": [
      "[1, 2, 3, 4, 10]\n"
     ]
    }
   ],
   "source": [
    "lst = [1,2,3,4]\n",
    "lst.append(10)\n",
    "print(lst)"
   ]
  },
  {
   "cell_type": "markdown",
   "id": "daf87d39",
   "metadata": {},
   "source": [
    "### Practical 8: 8) Remove the number `3` from the list `[1, 2, 3, 4, 5]`."
   ]
  },
  {
   "cell_type": "code",
   "execution_count": 8,
   "id": "6376fe71",
   "metadata": {
    "execution": {
     "iopub.execute_input": "2025-09-27T11:59:41.465953Z",
     "iopub.status.busy": "2025-09-27T11:59:41.465526Z",
     "iopub.status.idle": "2025-09-27T11:59:41.470241Z",
     "shell.execute_reply": "2025-09-27T11:59:41.469356Z"
    }
   },
   "outputs": [
    {
     "name": "stdout",
     "output_type": "stream",
     "text": [
      "[1, 2, 4, 5]\n"
     ]
    }
   ],
   "source": [
    "lst = [1,2,3,4,5]\n",
    "lst.remove(3)\n",
    "print(lst)"
   ]
  },
  {
   "cell_type": "markdown",
   "id": "eefa4d92",
   "metadata": {},
   "source": [
    "### Practical 9: 9) Access the second element in the list `['a', 'b', 'c', 'd']`."
   ]
  },
  {
   "cell_type": "code",
   "execution_count": 9,
   "id": "75f1ded7",
   "metadata": {
    "execution": {
     "iopub.execute_input": "2025-09-27T11:59:41.473220Z",
     "iopub.status.busy": "2025-09-27T11:59:41.472968Z",
     "iopub.status.idle": "2025-09-27T11:59:41.477496Z",
     "shell.execute_reply": "2025-09-27T11:59:41.476932Z"
    }
   },
   "outputs": [
    {
     "name": "stdout",
     "output_type": "stream",
     "text": [
      "b\n"
     ]
    }
   ],
   "source": [
    "letters = ['a','b','c','d']\n",
    "print(letters[1])"
   ]
  },
  {
   "cell_type": "markdown",
   "id": "bbae5603",
   "metadata": {},
   "source": [
    "### Practical 10: 10) Reverse the list `[10, 20, 30, 40, 50]`."
   ]
  },
  {
   "cell_type": "code",
   "execution_count": 10,
   "id": "c06cec8b",
   "metadata": {
    "execution": {
     "iopub.execute_input": "2025-09-27T11:59:41.542219Z",
     "iopub.status.busy": "2025-09-27T11:59:41.541695Z",
     "iopub.status.idle": "2025-09-27T11:59:41.547439Z",
     "shell.execute_reply": "2025-09-27T11:59:41.546542Z"
    }
   },
   "outputs": [
    {
     "name": "stdout",
     "output_type": "stream",
     "text": [
      "[50, 40, 30, 20, 10]\n"
     ]
    }
   ],
   "source": [
    "nums = [10,20,30,40,50]\n",
    "nums.reverse()\n",
    "print(nums)"
   ]
  },
  {
   "cell_type": "markdown",
   "id": "a771ee9b",
   "metadata": {},
   "source": [
    "### Practical 11: 11) Create a tuple with the elements `100, 200, 300` and print it."
   ]
  },
  {
   "cell_type": "code",
   "execution_count": 11,
   "id": "eb6c14db",
   "metadata": {
    "execution": {
     "iopub.execute_input": "2025-09-27T11:59:41.551858Z",
     "iopub.status.busy": "2025-09-27T11:59:41.551549Z",
     "iopub.status.idle": "2025-09-27T11:59:41.555934Z",
     "shell.execute_reply": "2025-09-27T11:59:41.554933Z"
    }
   },
   "outputs": [
    {
     "name": "stdout",
     "output_type": "stream",
     "text": [
      "(100, 200, 300)\n"
     ]
    }
   ],
   "source": [
    "t = (100, 200, 300)\n",
    "print(t)"
   ]
  },
  {
   "cell_type": "markdown",
   "id": "052c4ab5",
   "metadata": {},
   "source": [
    "### Practical 12: 12) Access the second‑to‑last element of the tuple `('red', 'green', 'blue', 'yellow')`."
   ]
  },
  {
   "cell_type": "code",
   "execution_count": 12,
   "id": "b846edab",
   "metadata": {
    "execution": {
     "iopub.execute_input": "2025-09-27T11:59:41.560530Z",
     "iopub.status.busy": "2025-09-27T11:59:41.560208Z",
     "iopub.status.idle": "2025-09-27T11:59:41.565619Z",
     "shell.execute_reply": "2025-09-27T11:59:41.564968Z"
    }
   },
   "outputs": [
    {
     "name": "stdout",
     "output_type": "stream",
     "text": [
      "blue\n"
     ]
    }
   ],
   "source": [
    "tp = ('red', 'green', 'blue', 'yellow')\n",
    "print(tp[-2])"
   ]
  },
  {
   "cell_type": "markdown",
   "id": "b6c13eb6",
   "metadata": {},
   "source": [
    "### Practical 13: 13) Find the minimum number in the tuple `(10, 20, 5, 15)`."
   ]
  },
  {
   "cell_type": "code",
   "execution_count": 13,
   "id": "9457bb77",
   "metadata": {
    "execution": {
     "iopub.execute_input": "2025-09-27T11:59:41.569465Z",
     "iopub.status.busy": "2025-09-27T11:59:41.569175Z",
     "iopub.status.idle": "2025-09-27T11:59:41.574527Z",
     "shell.execute_reply": "2025-09-27T11:59:41.573706Z"
    }
   },
   "outputs": [
    {
     "name": "stdout",
     "output_type": "stream",
     "text": [
      "5\n"
     ]
    }
   ],
   "source": [
    "tp = (10, 20, 5, 15)\n",
    "print(min(tp))"
   ]
  },
  {
   "cell_type": "markdown",
   "id": "8761da19",
   "metadata": {},
   "source": [
    "### Practical 14: 14) Find the index of the element `'cat'` in the tuple `('dog', 'cat', 'rabbit')`."
   ]
  },
  {
   "cell_type": "code",
   "execution_count": 14,
   "id": "5feca777",
   "metadata": {
    "execution": {
     "iopub.execute_input": "2025-09-27T11:59:41.579255Z",
     "iopub.status.busy": "2025-09-27T11:59:41.578866Z",
     "iopub.status.idle": "2025-09-27T11:59:41.641731Z",
     "shell.execute_reply": "2025-09-27T11:59:41.640646Z"
    }
   },
   "outputs": [
    {
     "name": "stdout",
     "output_type": "stream",
     "text": [
      "1\n"
     ]
    }
   ],
   "source": [
    "tp = ('dog', 'cat', 'rabbit')\n",
    "print(tp.index('cat'))"
   ]
  },
  {
   "cell_type": "markdown",
   "id": "22ec94bf",
   "metadata": {},
   "source": [
    "### Practical 15: 15) Create a tuple containing three different fruits and check if `'kiwi'` is in it."
   ]
  },
  {
   "cell_type": "code",
   "execution_count": 15,
   "id": "81f0f70f",
   "metadata": {
    "execution": {
     "iopub.execute_input": "2025-09-27T11:59:41.646996Z",
     "iopub.status.busy": "2025-09-27T11:59:41.646514Z",
     "iopub.status.idle": "2025-09-27T11:59:41.653134Z",
     "shell.execute_reply": "2025-09-27T11:59:41.652094Z"
    }
   },
   "outputs": [
    {
     "name": "stdout",
     "output_type": "stream",
     "text": [
      "False\n"
     ]
    }
   ],
   "source": [
    "fruits = ('apple', 'banana', 'mango')\n",
    "print('kiwi' in fruits)"
   ]
  },
  {
   "cell_type": "markdown",
   "id": "3e878070",
   "metadata": {},
   "source": [
    "### Practical 16: 16) Create a set with the elements `'a'`, `'b'`, `'c'` and print it."
   ]
  },
  {
   "cell_type": "code",
   "execution_count": 16,
   "id": "51eb1c73",
   "metadata": {
    "execution": {
     "iopub.execute_input": "2025-09-27T11:59:41.657313Z",
     "iopub.status.busy": "2025-09-27T11:59:41.657023Z",
     "iopub.status.idle": "2025-09-27T11:59:41.662983Z",
     "shell.execute_reply": "2025-09-27T11:59:41.661925Z"
    }
   },
   "outputs": [
    {
     "name": "stdout",
     "output_type": "stream",
     "text": [
      "{'a', 'c', 'b'}\n"
     ]
    }
   ],
   "source": [
    "st = {'a','b','c'}\n",
    "print(st)"
   ]
  },
  {
   "cell_type": "markdown",
   "id": "093a7b7c",
   "metadata": {},
   "source": [
    "### Practical 17: 17) Clear all elements from the set `{1, 2, 3, 4, 5}`."
   ]
  },
  {
   "cell_type": "code",
   "execution_count": 17,
   "id": "a5ac9fc0",
   "metadata": {
    "execution": {
     "iopub.execute_input": "2025-09-27T11:59:41.667561Z",
     "iopub.status.busy": "2025-09-27T11:59:41.667125Z",
     "iopub.status.idle": "2025-09-27T11:59:41.673733Z",
     "shell.execute_reply": "2025-09-27T11:59:41.672771Z"
    }
   },
   "outputs": [
    {
     "name": "stdout",
     "output_type": "stream",
     "text": [
      "set()\n"
     ]
    }
   ],
   "source": [
    "st = {1,2,3,4,5}\n",
    "st.clear()\n",
    "print(st)"
   ]
  },
  {
   "cell_type": "markdown",
   "id": "3d704186",
   "metadata": {},
   "source": [
    "### Practical 18: 18) Remove the element `4` from the set `{1, 2, 3, 4}`."
   ]
  },
  {
   "cell_type": "code",
   "execution_count": 18,
   "id": "d8576ba5",
   "metadata": {
    "execution": {
     "iopub.execute_input": "2025-09-27T11:59:41.677687Z",
     "iopub.status.busy": "2025-09-27T11:59:41.677377Z",
     "iopub.status.idle": "2025-09-27T11:59:41.743456Z",
     "shell.execute_reply": "2025-09-27T11:59:41.742515Z"
    }
   },
   "outputs": [
    {
     "name": "stdout",
     "output_type": "stream",
     "text": [
      "{1, 2, 3}\n"
     ]
    }
   ],
   "source": [
    "st = {1,2,3,4}\n",
    "st.remove(4)\n",
    "print(st)"
   ]
  },
  {
   "cell_type": "markdown",
   "id": "ad5fb14e",
   "metadata": {},
   "source": [
    "### Practical 19: 19) Find the union of two sets `{1, 2, 3}` and `{3, 4, 5}`."
   ]
  },
  {
   "cell_type": "code",
   "execution_count": 19,
   "id": "dac57e1a",
   "metadata": {
    "execution": {
     "iopub.execute_input": "2025-09-27T11:59:41.747515Z",
     "iopub.status.busy": "2025-09-27T11:59:41.747172Z",
     "iopub.status.idle": "2025-09-27T11:59:41.752171Z",
     "shell.execute_reply": "2025-09-27T11:59:41.751394Z"
    }
   },
   "outputs": [
    {
     "name": "stdout",
     "output_type": "stream",
     "text": [
      "{1, 2, 3, 4, 5}\n"
     ]
    }
   ],
   "source": [
    "a = {1,2,3}\n",
    "b = {3,4,5}\n",
    "print(a | b)  # or a.union(b)"
   ]
  },
  {
   "cell_type": "markdown",
   "id": "a0cb738b",
   "metadata": {},
   "source": [
    "### Practical 20: 20) Find the intersection of two sets `{1, 2, 3}` and `{2, 3, 4}`."
   ]
  },
  {
   "cell_type": "code",
   "execution_count": 20,
   "id": "08a83d62",
   "metadata": {
    "execution": {
     "iopub.execute_input": "2025-09-27T11:59:41.756703Z",
     "iopub.status.busy": "2025-09-27T11:59:41.756241Z",
     "iopub.status.idle": "2025-09-27T11:59:41.762184Z",
     "shell.execute_reply": "2025-09-27T11:59:41.761225Z"
    }
   },
   "outputs": [
    {
     "name": "stdout",
     "output_type": "stream",
     "text": [
      "{2, 3}\n"
     ]
    }
   ],
   "source": [
    "a = {1,2,3}\n",
    "b = {2,3,4}\n",
    "print(a & b)  # or a.intersection(b)"
   ]
  },
  {
   "cell_type": "markdown",
   "id": "74341a71",
   "metadata": {},
   "source": [
    "### Practical 21: 21) Create a dictionary with the keys `'name'`, `'age'`, and `'city'`, and print it."
   ]
  },
  {
   "cell_type": "code",
   "execution_count": 21,
   "id": "302f0100",
   "metadata": {
    "execution": {
     "iopub.execute_input": "2025-09-27T11:59:41.766002Z",
     "iopub.status.busy": "2025-09-27T11:59:41.765640Z",
     "iopub.status.idle": "2025-09-27T11:59:41.771034Z",
     "shell.execute_reply": "2025-09-27T11:59:41.769950Z"
    }
   },
   "outputs": [
    {
     "name": "stdout",
     "output_type": "stream",
     "text": [
      "{'name': 'UNO', 'age': 21, 'city': 'Mumbai'}\n"
     ]
    }
   ],
   "source": [
    "d = {'name': 'UNO', 'age': 21, 'city': 'Mumbai'}\n",
    "print(d)"
   ]
  },
  {
   "cell_type": "markdown",
   "id": "cb76ae96",
   "metadata": {},
   "source": [
    "### Practical 22: 22) Add a new key‑value pair `'country': 'USA'` to the dictionary `{'name': 'John', 'age': 25}`."
   ]
  },
  {
   "cell_type": "code",
   "execution_count": 22,
   "id": "0730bd27",
   "metadata": {
    "execution": {
     "iopub.execute_input": "2025-09-27T11:59:41.774876Z",
     "iopub.status.busy": "2025-09-27T11:59:41.774572Z",
     "iopub.status.idle": "2025-09-27T11:59:41.839265Z",
     "shell.execute_reply": "2025-09-27T11:59:41.838045Z"
    }
   },
   "outputs": [
    {
     "name": "stdout",
     "output_type": "stream",
     "text": [
      "{'name': 'John', 'age': 25, 'country': 'USA'}\n"
     ]
    }
   ],
   "source": [
    "d = {'name': 'John', 'age': 25}\n",
    "d['country'] = 'USA'\n",
    "print(d)"
   ]
  },
  {
   "cell_type": "markdown",
   "id": "44812c7b",
   "metadata": {},
   "source": [
    "### Practical 23: 23) Access the value associated with the key `'name'` in the dictionary `{'name': 'Alice', 'age': 30}`."
   ]
  },
  {
   "cell_type": "code",
   "execution_count": 23,
   "id": "3d36a779",
   "metadata": {
    "execution": {
     "iopub.execute_input": "2025-09-27T11:59:41.844087Z",
     "iopub.status.busy": "2025-09-27T11:59:41.843681Z",
     "iopub.status.idle": "2025-09-27T11:59:41.849054Z",
     "shell.execute_reply": "2025-09-27T11:59:41.848266Z"
    }
   },
   "outputs": [
    {
     "name": "stdout",
     "output_type": "stream",
     "text": [
      "Alice\n"
     ]
    }
   ],
   "source": [
    "d = {'name': 'Alice', 'age': 30}\n",
    "print(d['name'])"
   ]
  },
  {
   "cell_type": "markdown",
   "id": "cc1f1d68",
   "metadata": {},
   "source": [
    "### Practical 24: 24) Remove the key `'age'` from the dictionary `{'name': 'Bob', 'age': 22, 'city': 'New York'}`."
   ]
  },
  {
   "cell_type": "code",
   "execution_count": 24,
   "id": "55f7b7c4",
   "metadata": {
    "execution": {
     "iopub.execute_input": "2025-09-27T11:59:41.852959Z",
     "iopub.status.busy": "2025-09-27T11:59:41.852588Z",
     "iopub.status.idle": "2025-09-27T11:59:41.857133Z",
     "shell.execute_reply": "2025-09-27T11:59:41.856542Z"
    }
   },
   "outputs": [
    {
     "name": "stdout",
     "output_type": "stream",
     "text": [
      "{'name': 'Bob', 'city': 'New York'}\n"
     ]
    }
   ],
   "source": [
    "d = {'name': 'Bob', 'age': 22, 'city': 'New York'}\n",
    "d.pop('age')\n",
    "print(d)"
   ]
  },
  {
   "cell_type": "markdown",
   "id": "e54d0402",
   "metadata": {},
   "source": [
    "### Practical 25: 25) Check if the key `'city'` exists in the dictionary `{'name': 'Alice', 'city': 'Paris'}`."
   ]
  },
  {
   "cell_type": "code",
   "execution_count": 25,
   "id": "00ae3e47",
   "metadata": {
    "execution": {
     "iopub.execute_input": "2025-09-27T11:59:41.860579Z",
     "iopub.status.busy": "2025-09-27T11:59:41.860261Z",
     "iopub.status.idle": "2025-09-27T11:59:41.864309Z",
     "shell.execute_reply": "2025-09-27T11:59:41.863444Z"
    }
   },
   "outputs": [
    {
     "name": "stdout",
     "output_type": "stream",
     "text": [
      "True\n"
     ]
    }
   ],
   "source": [
    "d = {'name': 'Alice', 'city': 'Paris'}\n",
    "print('city' in d)"
   ]
  },
  {
   "cell_type": "markdown",
   "id": "df3a81a0",
   "metadata": {},
   "source": [
    "### Practical 26: 26) Create a list, a tuple, and a dictionary, and print them all."
   ]
  },
  {
   "cell_type": "code",
   "execution_count": 26,
   "id": "97bfb381",
   "metadata": {
    "execution": {
     "iopub.execute_input": "2025-09-27T11:59:41.868199Z",
     "iopub.status.busy": "2025-09-27T11:59:41.867754Z",
     "iopub.status.idle": "2025-09-27T11:59:41.873845Z",
     "shell.execute_reply": "2025-09-27T11:59:41.872921Z"
    }
   },
   "outputs": [
    {
     "name": "stdout",
     "output_type": "stream",
     "text": [
      "[1, 2, 3]\n",
      "(4, 5, 6)\n",
      "{'a': 1, 'b': 2}\n"
     ]
    }
   ],
   "source": [
    "lst = [1,2,3]\n",
    "tp = (4,5,6)\n",
    "d = {'a':1,'b':2}\n",
    "print(lst)\n",
    "print(tp)\n",
    "print(d)"
   ]
  },
  {
   "cell_type": "markdown",
   "id": "e1b19cc4",
   "metadata": {},
   "source": [
    "### Practical 27: 27) Create a list of 5 random numbers between 1 and 100, sort ascending, and print."
   ]
  },
  {
   "cell_type": "code",
   "execution_count": 27,
   "id": "c5b75594",
   "metadata": {
    "execution": {
     "iopub.execute_input": "2025-09-27T11:59:41.877982Z",
     "iopub.status.busy": "2025-09-27T11:59:41.877513Z",
     "iopub.status.idle": "2025-09-27T11:59:41.943832Z",
     "shell.execute_reply": "2025-09-27T11:59:41.942593Z"
    }
   },
   "outputs": [
    {
     "name": "stdout",
     "output_type": "stream",
     "text": [
      "[35, 59, 63, 72, 90]\n"
     ]
    }
   ],
   "source": [
    "import random\n",
    "nums = [random.randint(1,100) for _ in range(5)]\n",
    "nums.sort()\n",
    "print(nums)"
   ]
  },
  {
   "cell_type": "markdown",
   "id": "302aa9af",
   "metadata": {},
   "source": [
    "### Practical 28: 28) Create a list with strings and print the element at the third index."
   ]
  },
  {
   "cell_type": "code",
   "execution_count": 28,
   "id": "16c053fd",
   "metadata": {
    "execution": {
     "iopub.execute_input": "2025-09-27T11:59:41.947569Z",
     "iopub.status.busy": "2025-09-27T11:59:41.947245Z",
     "iopub.status.idle": "2025-09-27T11:59:41.952110Z",
     "shell.execute_reply": "2025-09-27T11:59:41.951456Z"
    }
   },
   "outputs": [
    {
     "name": "stdout",
     "output_type": "stream",
     "text": [
      "delta\n"
     ]
    }
   ],
   "source": [
    "words = ['alpha','beta','gamma','delta','epsilon']\n",
    "print(words[3])  # zero-based indexing"
   ]
  },
  {
   "cell_type": "markdown",
   "id": "3e5fcf44",
   "metadata": {},
   "source": [
    "### Practical 29: 29) Combine two dictionaries into one and print the result."
   ]
  },
  {
   "cell_type": "code",
   "execution_count": 29,
   "id": "be3904c2",
   "metadata": {
    "execution": {
     "iopub.execute_input": "2025-09-27T11:59:41.955627Z",
     "iopub.status.busy": "2025-09-27T11:59:41.955344Z",
     "iopub.status.idle": "2025-09-27T11:59:41.959755Z",
     "shell.execute_reply": "2025-09-27T11:59:41.959089Z"
    }
   },
   "outputs": [
    {
     "name": "stdout",
     "output_type": "stream",
     "text": [
      "{'x': 1, 'y': 20, 'z': 3}\n"
     ]
    }
   ],
   "source": [
    "d1 = {'x':1, 'y':2}\n",
    "d2 = {'y':20, 'z':3}\n",
    "combined = {**d1, **d2}\n",
    "print(combined)  # d2 wins on conflicts"
   ]
  },
  {
   "cell_type": "markdown",
   "id": "5de65297",
   "metadata": {},
   "source": [
    "### Practical 30: 30) Convert a list of strings into a set."
   ]
  },
  {
   "cell_type": "code",
   "execution_count": 30,
   "id": "5ead0a16",
   "metadata": {
    "execution": {
     "iopub.execute_input": "2025-09-27T11:59:41.963540Z",
     "iopub.status.busy": "2025-09-27T11:59:41.963182Z",
     "iopub.status.idle": "2025-09-27T11:59:41.967588Z",
     "shell.execute_reply": "2025-09-27T11:59:41.966832Z"
    }
   },
   "outputs": [
    {
     "name": "stdout",
     "output_type": "stream",
     "text": [
      "{'a', 'c', 'b'}\n"
     ]
    }
   ],
   "source": [
    "lst = ['a','b','a','c']\n",
    "print(set(lst))"
   ]
  }
 ],
 "metadata": {
  "language_info": {
   "codemirror_mode": {
    "name": "ipython",
    "version": 3
   },
   "file_extension": ".py",
   "mimetype": "text/x-python",
   "name": "python",
   "nbconvert_exporter": "python",
   "pygments_lexer": "ipython3",
   "version": "3.11.8"
  }
 },
 "nbformat": 4,
 "nbformat_minor": 5
}
